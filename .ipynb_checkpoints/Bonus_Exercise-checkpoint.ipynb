{
 "cells": [
  {
   "cell_type": "code",
   "execution_count": 1,
   "metadata": {},
   "outputs": [],
   "source": [
    "#Description:\n",
    "#   SQL Homework Bonus Exercise\n",
    "#\n",
    "#  https://www.mssqltips.com/sqlservertip/5173/encrypting-passwords-for-use-with-python-and-sql-server/\n",
    "#\n",
    "#Modification History:\n",
    "#   DD-MMM-YYY  Author          Description\n",
    "#   23-07-2019  Stacey Smith    INITIAL CREATION"
   ]
  },
  {
   "cell_type": "code",
   "execution_count": 18,
   "metadata": {},
   "outputs": [],
   "source": [
    "#Dependencies and imports\n",
    "\n",
    "from sqlalchemy import create_engine\n",
    "from cryptography.fernet import Fernet\n",
    "import pandas as pd\n"
   ]
  },
  {
   "cell_type": "code",
   "execution_count": null,
   "metadata": {},
   "outputs": [],
   "source": [
    "#Deal with password needed for sql conn\n",
    "key = b'R_frnvbIOy25RMAXZtlk5yOn9x6m71YhQnfkpr2QM5w='\n",
    "cipher_suite = Fernet(key)\n",
    "\n",
    "with open('postgres.bin', 'rb') as file_object:\n",
    "    for line in file_object:\n",
    "        encryptedpwd = line\n",
    "        \n",
    "uncipher_text = (cipher_suite.decrypt(encryptedpwd))\n",
    "pword = bytes(uncipher_text).decode(\"utf-8\")"
   ]
  },
  {
   "cell_type": "code",
   "execution_count": 17,
   "metadata": {},
   "outputs": [],
   "source": [
    "#Connect to database\n",
    "engine = create_engine('postgresql://postgres:' + pword + '@localhost:5432/09-SQL_Homework')\n",
    "connection = engine.connect()"
   ]
  },
  {
   "cell_type": "code",
   "execution_count": null,
   "metadata": {},
   "outputs": [],
   "source": [
    "#Write query\n",
    "Query = pd.read_sql_query(\n",
    "\n",
    ")"
   ]
  }
 ],
 "metadata": {
  "kernelspec": {
   "display_name": "Python 3",
   "language": "python",
   "name": "python3"
  },
  "language_info": {
   "codemirror_mode": {
    "name": "ipython",
    "version": 3
   },
   "file_extension": ".py",
   "mimetype": "text/x-python",
   "name": "python",
   "nbconvert_exporter": "python",
   "pygments_lexer": "ipython3",
   "version": "3.7.3"
  }
 },
 "nbformat": 4,
 "nbformat_minor": 2
}
